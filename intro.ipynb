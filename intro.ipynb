{
 "cells": [
  {
   "cell_type": "code",
   "execution_count": 4,
   "metadata": {},
   "outputs": [
    {
     "name": "stdout",
     "output_type": "stream",
     "text": [
      "hello world\n"
     ]
    }
   ],
   "source": [
    "#print hello world \n",
    "hello= 'hello world'\n",
    "print(hello)"
   ]
  },
  {
   "cell_type": "code",
   "execution_count": 3,
   "metadata": {},
   "outputs": [
    {
     "name": "stdout",
     "output_type": "stream",
     "text": [
      "3.14\n"
     ]
    }
   ],
   "source": [
    "#print pi\n",
    "pi = 3.14\n",
    "print(pi)"
   ]
  },
  {
   "cell_type": "code",
   "execution_count": 1,
   "metadata": {},
   "outputs": [
    {
     "name": "stdout",
     "output_type": "stream",
     "text": [
      "<class 'complex'>\n"
     ]
    }
   ],
   "source": [
    "#print its varibale type\n",
    "umer = 30\n",
    "price = 1.5\n",
    "a = 1j\n",
    "print(type(a))"
   ]
  },
  {
   "cell_type": "code",
   "execution_count": 12,
   "metadata": {},
   "outputs": [
    {
     "name": "stdout",
     "output_type": "stream",
     "text": [
      "13\n",
      "N a\n",
      "Niraj Devkota\n"
     ]
    }
   ],
   "source": [
    "#print first_name and last_name\n",
    "n = 'Niraj Devkota'\n",
    "t = len(n)\n",
    "print(t)\n",
    "f = n[0] #1st charcter\n",
    "l = n[len(n)-1] #last character\n",
    "print (f,l)\n",
    "firstname = n[0:5]\n",
    "lastname = n[6:16]\n",
    "print(firstname,lastname)"
   ]
  },
  {
   "cell_type": "code",
   "execution_count": 13,
   "metadata": {},
   "outputs": [],
   "source": [
    "#input a number and check the age is correct or not \n",
    "age = int(input('Enter age'))\n",
    "if age == 20:\n",
    "    print(\"Correct\")\n",
    "elif age == 19 or age == 21:\n",
    "    print(\"Close enough\")\n",
    "else:\n",
    "    print(\"Wrong\") "
   ]
  },
  {
   "cell_type": "code",
   "execution_count": 3,
   "metadata": {},
   "outputs": [
    {
     "name": "stdout",
     "output_type": "stream",
     "text": [
      "Number is even\n"
     ]
    }
   ],
   "source": [
    "#check num is odd or even \n",
    "num = int(input(\"Enter a num\"))\n",
    "if num % 2 == 0:\n",
    "    print(\"Number is even\")\n",
    "else:\n",
    "    print(\"Number is odd\")"
   ]
  },
  {
   "cell_type": "code",
   "execution_count": null,
   "metadata": {},
   "outputs": [],
   "source": [
    "day = int(input('Enter day: '))\n",
    "\n",
    "if day == 4:\n",
    "    print(\"I have to wake up at 5AM\")\n",
    "    print(\"I have to go to Office\")\n",
    "    print(\"It's Wednesday\")\n",
    "\n",
    "elif day == 5:\n",
    "    print(\"It's week day\")\n",
    "else:\n",
    "    print(\"Its weekend\")\n",
    "\n",
    "print(\"Test\")\n"
   ]
  },
  {
   "cell_type": "code",
   "execution_count": 10,
   "metadata": {},
   "outputs": [
    {
     "name": "stdout",
     "output_type": "stream",
     "text": [
      "Its DBA class\n"
     ]
    }
   ],
   "source": [
    "time=int(input('Enter your time'))\n",
    "if time>=10 and time<12:\n",
    "    print(\"Its time for PYTHON\")\n",
    "elif time>=12 and time<14:\n",
    "    print(\"Its DBA class\")\n",
    "elif time>=14 and time<16:\n",
    "    print(\"Its English class\")\n",
    "else:\n",
    "    print(\"Getting ready\")"
   ]
  },
  {
   "cell_type": "code",
   "execution_count": 16,
   "metadata": {},
   "outputs": [
    {
     "name": "stdout",
     "output_type": "stream",
     "text": [
      "Your charge per person will be Rs 50\n"
     ]
    }
   ],
   "source": [
    "nationality = str(input(\"Please enter your Nationality\"))\n",
    "if nationality == (\"Nepal\" or \"India\").upper():    #.upper() .lower() lower and upper case #\n",
    "    print(\"Your charge per person will be Rs 50\")\n",
    "else:\n",
    "    print(\"Your charge per person will be RS 100\")\n"
   ]
  },
  {
   "cell_type": "code",
   "execution_count": null,
   "metadata": {},
   "outputs": [],
   "source": [
    "from time import sleep\n",
    "counter = 10\n",
    "while counter >=1:\n",
    "    print(\"hello\")\n",
    "    print(counter)\n",
    "    counter -=1\n",
    "    sleep(1)\n",
    "\n"
   ]
  },
  {
   "cell_type": "code",
   "execution_count": null,
   "metadata": {},
   "outputs": [],
   "source": [
    "from time import sleep\n",
    "counter = 1\n",
    "while counter <10:\n",
    "    print(\"hello\")\n",
    "    print(counter)\n",
    "    counter +=1\n",
    "    sleep(1)\n",
    "\n"
   ]
  },
  {
   "cell_type": "code",
   "execution_count": 37,
   "metadata": {},
   "outputs": [
    {
     "name": "stdout",
     "output_type": "stream",
     "text": [
      "The sum of the first 100 natural numbers is: 5050\n"
     ]
    }
   ],
   "source": [
    "\n",
    "n = 100\n",
    "sum = (n * (n + 1)) // 2\n",
    "print(f\"The sum of the first {n} natural numbers is: {sum}\")\n"
   ]
  },
  {
   "cell_type": "code",
   "execution_count": 40,
   "metadata": {},
   "outputs": [
    {
     "name": "stdout",
     "output_type": "stream",
     "text": [
      "The sum of the first 100 even numbers is: 10100\n"
     ]
    }
   ],
   "source": [
    "n = 100\n",
    "sum_of_even_numbers = n * (n + 1)\n",
    "\n",
    "print(f\"The sum of the first {n} even numbers is: {sum_of_even_numbers}\")\n",
    "\n",
    "\n"
   ]
  },
  {
   "cell_type": "code",
   "execution_count": 42,
   "metadata": {},
   "outputs": [
    {
     "name": "stdout",
     "output_type": "stream",
     "text": [
      "Reversed string: l\n"
     ]
    }
   ],
   "source": [
    "address= \"Kathmandu Nepal\"\n",
    "reversed_string = address[::-1]\n",
    "\n",
    "print(f\"Reversed string: {reversed_string}\")\n"
   ]
  },
  {
   "cell_type": "code",
   "execution_count": null,
   "metadata": {},
   "outputs": [],
   "source": [
    "address = \"Kathmandu Nepal\"\n",
    "length = len(address)-1\n",
    "reversed_string=''\n",
    "while length>=0:\n",
    "    reversed_string += address[length]\n",
    "    length-=1\n",
    "    print(reversed_string)\n"
   ]
  },
  {
   "cell_type": "code",
   "execution_count": 2,
   "metadata": {},
   "outputs": [
    {
     "name": "stdout",
     "output_type": "stream",
     "text": [
      "5\n",
      "7\n",
      "5\n"
     ]
    }
   ],
   "source": [
    "numbers = [1,2,3,4,5,5,5]\n",
    "students = ['Ram','Hari']\n",
    "\n",
    "#access elements from list \n",
    "first_number = numbers[0]\n",
    "print(first_number)\n",
    "\n",
    "#count total number of items\n",
    "total_items = len(numbers)\n",
    "print(total_items)\n",
    "\n",
    "#last element\n",
    "last_element = numbers[total_items-1]\n",
    "print(last_element)\n",
    "\n",
    "\n"
   ]
  },
  {
   "cell_type": "code",
   "execution_count": null,
   "metadata": {},
   "outputs": [],
   "source": [
    "numbers= [1,2,3,4,5,6,7,1,1]\n",
    "print(numbers)\n",
    "\n",
    "#append item\n",
    "numbers.append(8)\n",
    "print(numbers)\n",
    "\n",
    "#remove last item\n",
    "numbers.pop()\n",
    "print(numbers)\n",
    "\n",
    "#remove\n",
    "numbers.remove(5)\n",
    "print(numbers)\n",
    "\n",
    "#insert\n",
    "numbers.insert(2,10)\n",
    "print(numbers)\n",
    "\n",
    "#count\n",
    "print(numbers.count(1))\n",
    "\n",
    "numbers_1 = [1,2]\n",
    "numbers_2 = [3,4]\n",
    "numbers_1.extend(numbers_2)\n",
    "print(numbers_1)\n",
    "\n",
    "#clear\n",
    "numbers_1.clear()\n",
    "print(numbers_1)\n"
   ]
  },
  {
   "cell_type": "code",
   "execution_count": 6,
   "metadata": {},
   "outputs": [
    {
     "name": "stdout",
     "output_type": "stream",
     "text": [
      "27\n"
     ]
    }
   ],
   "source": [
    "#loop through list\n",
    "#find the sum of all items of given list\n",
    "numbers = [1,2,3,4,5,6,6]\n",
    "\n",
    "total_items = len(numbers)\n",
    "index = 0\n",
    "sum = 0\n",
    "while index<total_items:\n",
    "    sum+= numbers[index]\n",
    "    index+=1\n",
    "print(sum)"
   ]
  },
  {
   "cell_type": "code",
   "execution_count": 10,
   "metadata": {},
   "outputs": [
    {
     "name": "stdout",
     "output_type": "stream",
     "text": [
      "1\n"
     ]
    }
   ],
   "source": [
    "#find the maximum value from the list\n",
    "# numbers =[1,2,3,4,5,6,6]\n",
    "# max_value = max(numbers)\n",
    "\n",
    "# # Print the maximum value\n",
    "# print(f\"The maximum value in the list is {max_value}\")\n",
    "\n",
    "numbers =[1,2,3,4,5,6,6]\n",
    "total_items = len(numbers)\n",
    "index = 0\n",
    "max_value = numbers[0]\n",
    "while index<total_items:\n",
    "    element = numbers[index]\n",
    "    index+=1\n",
    "print(max_value)\n",
    "\n",
    "\n",
    "\n"
   ]
  },
  {
   "cell_type": "code",
   "execution_count": 13,
   "metadata": {},
   "outputs": [
    {
     "name": "stdout",
     "output_type": "stream",
     "text": [
      "['Hari', 'Shyam']\n"
     ]
    }
   ],
   "source": [
    "#filter values\n",
    "\n",
    "students = ['Ram','Hari','Shyam']\n",
    "filtered_students = [i for i in students if i!='Ram']\n",
    "print(filtered_students)"
   ]
  },
  {
   "cell_type": "code",
   "execution_count": 15,
   "metadata": {},
   "outputs": [
    {
     "name": "stdout",
     "output_type": "stream",
     "text": [
      "[2, 4, 6, 8]\n"
     ]
    }
   ],
   "source": [
    "numbers = [1,3,2,4,5,7,11,6,8]\n",
    "\n",
    "even_numbers = [numbers for numbers in numbers if numbers %2==0]\n",
    "print(even_numbers)"
   ]
  }
 ],
 "metadata": {
  "kernelspec": {
   "display_name": "Python 3",
   "language": "python",
   "name": "python3"
  },
  "language_info": {
   "codemirror_mode": {
    "name": "ipython",
    "version": 3
   },
   "file_extension": ".py",
   "mimetype": "text/x-python",
   "name": "python",
   "nbconvert_exporter": "python",
   "pygments_lexer": "ipython3",
   "version": "3.12.3"
  },
  "orig_nbformat": 4
 },
 "nbformat": 4,
 "nbformat_minor": 2
}
